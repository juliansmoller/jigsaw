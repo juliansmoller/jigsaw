{
 "cells": [
  {
   "cell_type": "markdown",
   "metadata": {},
   "source": [
    "# README"
   ]
  },
  {
   "cell_type": "code",
   "execution_count": 4,
   "metadata": {
    "collapsed": false,
    "deletable": true,
    "editable": true
   },
   "outputs": [
    {
     "name": "stdout",
     "output_type": "stream",
     "text": [
      "\n",
      "Julian Smoller ~ 2017.04.21\n",
      "\n",
      "# Intro:\n",
      "The purpose of this notebook is to create a Jigsaw puzzle using pixel-like blocks. \n",
      "\n",
      "\n"
     ]
    }
   ],
   "source": [
    "README = '''\n",
    "Julian Smoller ~ 2017.04.21\n",
    "\n",
    "# Intro:\n",
    "The purpose of this notebook is to create a Jigsaw puzzle using pixel-like blocks. \n",
    "\n",
    "'''\n",
    "print(README)"
   ]
  },
  {
   "cell_type": "code",
   "execution_count": 5,
   "metadata": {
    "collapsed": true
   },
   "outputs": [],
   "source": [
    "########################################################################\n",
    "# Import libraries\n",
    "import numpy as np\n",
    "import colorsys\n",
    "import pandas as pd\n",
    "from PIL import Image\n",
    "import pickle\n",
    "\n",
    "########################################################################\n",
    "# Change display settings:\n",
    "pd.options.display.max_rows = 500\n",
    "pd.options.display.max_columns = 100\n",
    "%matplotlib inline"
   ]
  },
  {
   "cell_type": "markdown",
   "metadata": {
    "deletable": true,
    "editable": true
   },
   "source": [
    "# General functions for matrix manipulation"
   ]
  },
  {
   "cell_type": "code",
   "execution_count": 3,
   "metadata": {
    "collapsed": false,
    "deletable": true,
    "editable": true
   },
   "outputs": [],
   "source": [
    "def rotate(matrix):\n",
    "    '''Rotate matrix clockwise by 90 degrees'''\n",
    "    return np.matrix([list(reversed(row)) for row in matrix.T.A])\n",
    "\n",
    "def equal(matrix1, matrix2):\n",
    "    '''Check if 2 matrixes are equal in shape and value'''\n",
    "    if matrix1.shape != matrix2.shape:\n",
    "        return False\n",
    "    else:\n",
    "        for x1,x2 in zip(matrix1.flat,matrix2.flat):\n",
    "            if x1 != x2:\n",
    "                return False\n",
    "        return True\n",
    "\n",
    "def rotations(matrix):\n",
    "    '''Generate 4 rotations of a given matrix'''\n",
    "    rotations = [matrix]\n",
    "    for i in range(3):\n",
    "        rotated = rotate(rotations[-1])\n",
    "        rotations.append(rotated)\n",
    "    return rotations\n",
    "\n",
    "def unique(matrix, matrixes):\n",
    "    '''Determine if a given matrix is similar (rotationally symmetric) \n",
    "    to any of the matrixes in a list'''\n",
    "    for matrix1 in rotations(matrix):\n",
    "        for matrix2 in matrixes:\n",
    "            if equal(matrix1,matrix2):\n",
    "                return False\n",
    "    return True\n",
    " \n",
    "def in_list(matrix, matrixes):\n",
    "    '''Determine if a given matrix is equal to any of the matrixes in a list'''\n",
    "    for matrix2 in matrixes:\n",
    "        if equal(matrix,matrix2):\n",
    "            return True\n",
    "    return False\n",
    "\n",
    "def similar(matrix1,matrix2):\n",
    "    '''Check if one matrix is rotationally symmetric to another '''\n",
    "    return inside(matrix1,rotations(matrix2))\n",
    "\n",
    "def add_border(matrix):\n",
    "    '''Add a border of 0's around all 4 sides of a matrix'''\n",
    "    rows = []\n",
    "    rows += [[0] * (matrix.shape[1]+2)]\n",
    "    rows += [[0] + list(row) + [0] for row in matrix.A]\n",
    "    rows += [[0] * (matrix.shape[1]+2)]\n",
    "    return np.matrix(rows)\n",
    "\n",
    "def trim(matrix):\n",
    "    '''Remove empty rows and columns from a matrix'''\n",
    "    matrix = np.matrix([r for r in matrix.A if np.any(r)])\n",
    "    matrix = np.matrix([r for r in matrix.T.A if np.any(r)]).T\n",
    "    return matrix\n",
    "\n",
    "def empty_spots(matrix):\n",
    "    '''Get row/col coordinates of cells in and around a matrix \n",
    "    where you could attach a block; you can only attach if new block borders\n",
    "    one of the existing blocks'''\n",
    "    expanded_matrix = add_border(matrix) \n",
    "    empty_spots = set()\n",
    "    for r, row in enumerate(matrix.A):\n",
    "        for c, value in enumerate(row):\n",
    "            if value==1:\n",
    "                neighbors = [(r-1,c),(r+1,c),(r,c-1),(r,c+1)]\n",
    "                empty_neighbors = [n for n in neighbors if expanded_matrix.A[n[0]+1][n[1]+1]==0]\n",
    "                empty_spots.update(empty_neighbors)\n",
    "    return empty_spots\n",
    "\n",
    "def inner_spots(spots,matrix):\n",
    "    '''Filter set of empty spots for inner spots, \n",
    "    i.e. those within bounds of matrix'''\n",
    "    return [s for s in spots if s[0]>=0 and s[0]<matrix.shape[0] and s[1]>=0 and s[1]<matrix.shape[1]]\n",
    "\n",
    "def sum_spots(spots,matrix):\n",
    "    '''Get sum of values in given locations'''\n",
    "    total = 0\n",
    "    for spot in spots:\n",
    "        total += matrix.A[spot[0]][spot[1]]\n",
    "    return total\n",
    "\n",
    "def add_one(matrix):\n",
    "    '''Generate a new set of matrixes with an additional \n",
    "    1 inside or outside an existing matrix'''\n",
    "    bigger_matrixes = []\n",
    "    expanded_matrix = add_border(matrix)\n",
    "    for spot in empty_spots(matrix):\n",
    "        new_matrix = expanded_matrix.copy()\n",
    "        new_matrix.A[spot[0]+1][spot[1]+1] = 1\n",
    "        new_matrix = trim(new_matrix)\n",
    "        if unique(new_matrix, bigger_matrixes):\n",
    "            bigger_matrixes.append(new_matrix)\n",
    "    return bigger_matrixes\n",
    "\n",
    "def add_one_to_each(matrixes):\n",
    "    '''Generate a new set of matrixes by adding 1 to each matrix in existing set'''\n",
    "    bigger_matrixes = []\n",
    "    for matrix in matrixes:\n",
    "        for new_matrix in add_one(matrix):\n",
    "            if unique(new_matrix, bigger_matrixes):\n",
    "                bigger_matrixes.append(new_matrix)\n",
    "    return bigger_matrixes\n",
    "\n",
    "def make_shapes(n=3):\n",
    "    '''Generate all unique shapes of size n blocks (or smaller)'''\n",
    "    shapes = [[np.matrix([[1]])]]\n",
    "    if n<10: # emergency cutoff\n",
    "        for i in range(2,n+1):\n",
    "            print('Creating shapes of size',i)\n",
    "            shapes.append(add_one_to_each(shapes[-1])) \n",
    "    return shapes\n",
    "\n",
    "def flatten(lst):\n",
    "    '''Flatten a list of lists (2d >> 1d)'''\n",
    "    return [item for sublist in lst for item in sublist]\n",
    "\n",
    "def permute(matrix):\n",
    "    '''Rotate a matrix to create all unique permutations \n",
    "    (e.g. 2 out of 4 for a line of 1)'''\n",
    "    m0 = matrix\n",
    "    m1 = rotate(m0)\n",
    "    m2 = rotate(m1)\n",
    "    m3 = rotate(m2)\n",
    "    permutations = [m0]\n",
    "    for m in [m1,m2,m3]:\n",
    "        if not in_list(m,permutations): # if not already in set\n",
    "            permutations.append(m)\n",
    "    return permutations\n",
    "\n",
    "def nonzero_cells(matrix):\n",
    "    '''Get (r,c) coordinates for all non-zero cells'''\n",
    "    cells = []\n",
    "    for r in range(matrix.shape[0]):\n",
    "        for c in range(matrix.shape[1]):\n",
    "            if matrix.A[r][c]!=0:\n",
    "                cells.append((r,c))\n",
    "    return cells\n",
    "\n",
    "def zero_cells(matrix):\n",
    "    '''Get (r,c) coordinates for all zero cells'''\n",
    "    cells = []\n",
    "    for r in range(matrix.shape[0]):\n",
    "        for c in range(matrix.shape[1]):\n",
    "            if matrix.A[r][c]==0:\n",
    "                cells.append((r,c))\n",
    "    return cells\n",
    "\n",
    "def both_dimensions_smaller(m1,m2):\n",
    "    '''Check if r and c dimensions of first matrix \n",
    "    are both within bounds of second matrix'''\n",
    "    return m1.shape[0]<=m2.shape[0] and m1.shape[1]<=m2.shape[1]"
   ]
  },
  {
   "cell_type": "markdown",
   "metadata": {
    "deletable": true,
    "editable": true
   },
   "source": [
    "# Special functions for Jigsaw matrix manipulation"
   ]
  },
  {
   "cell_type": "code",
   "execution_count": 14,
   "metadata": {
    "collapsed": true,
    "deletable": true,
    "editable": true
   },
   "outputs": [],
   "source": [
    "def order_cells_by_distance_to_center(matrix):\n",
    "    return order_cells_by_distance(all_cells(matrix),center_cell(matrix))\n",
    "def all_cells(matrix):\n",
    "    return [(r,c) for r in range(matrix.shape[0]) for c in range(matrix.shape[1])]\n",
    "def order_cells_by_distance(cells,cell):\n",
    "    return [x[1] for x in sorted([(distance_between_cells(c,cell),c) for c in cells])]\n",
    "def center_cell(matrix):\n",
    "    return (matrix.shape[0]/2,matrix.shape[1]/2)\n",
    "def distance_between_cells(cell1,cell2):\n",
    "    return max([abs(cell1[0]-cell2[0]), abs(cell1[1]-cell2[1])])\n",
    "def cell_neighbors(cell):\n",
    "    return [(cell[0]+1,cell[1]),(cell[0]-1,cell[1]),(cell[0],cell[1]+1),(cell[0],cell[1]-1)]"
   ]
  },
  {
   "cell_type": "markdown",
   "metadata": {
    "deletable": true,
    "editable": true
   },
   "source": [
    "# Jigsaw classes: Shape and Puzzle"
   ]
  },
  {
   "cell_type": "code",
   "execution_count": 15,
   "metadata": {
    "collapsed": true,
    "deletable": true,
    "editable": true
   },
   "outputs": [],
   "source": [
    "class Shape:\n",
    "    '''A Shape is a set of contiguous blocks, represented by a matrix'''\n",
    "    def __init__(self,matrix):\n",
    "        self.matrix = matrix\n",
    "        self.size = self.matrix.sum()\n",
    "        self.permutations = permute(self.matrix)\n",
    "        self.label = None\n",
    "        self.permutation_cells = [nonzero_cells(m) for m in self.permutations]\n",
    "    def describe(self):\n",
    "        print('Size:',self.size)\n",
    "        print('Label:', self.label)\n",
    "        print('Permutations:', len(self.permutations))\n",
    "        for i,m in enumerate(self.permutations):\n",
    "            print('-'*20)\n",
    "            print(m)\n",
    "            print('Cells:', self.permutation_cells[i])\n",
    "            \n",
    "class Puzzle:\n",
    "    '''A Puzzle is a collection of shapes'''\n",
    "    def __init__(self,x,y):\n",
    "        self.matrix = np.matrix([[0]*x for i in range(y)])\n",
    "        self.labels = np.matrix([[0]*x for i in range(y)])\n",
    "        self.colors = np.matrix([[0]*x for i in range(y)])\n",
    "        self.pieces = [] # shapes actually placed into puzzle\n",
    "        self.shapes = None # possible shapes that can be used as peices\n",
    "        #self.spiral_cells = order_cells_by_distance_to_center(self.matrix)\n",
    "        self.spiral_cells = order_cells_by_distance(all_cells(self.matrix),(10,8))\n",
    "        # Compile matrix after each shape is added\n",
    "        self.steps = []\n",
    "    def fill(self,shapes, cycles=100):\n",
    "        self.populate(shapes)\n",
    "        cycle = 0\n",
    "        while np.count_nonzero(self.matrix)<self.matrix.size and cycle<cycles:\n",
    "            cycle += 1\n",
    "            print('='*20,'Cycle:',cycle)\n",
    "            print('Filled', np.count_nonzero(self.matrix), 'of',self.matrix.size,'matrix cells')\n",
    "            print('Placed',len(self.pieces),'peices using',sum(self.shapes['count']>0),'of',len(shapes),'shapes')\n",
    "            print('Shapes left to try:',sum(self.shapes['try']))\n",
    "            print('='*40)\n",
    "            for i in self.shapes_to_try(cycle).index:\n",
    "                if self.pack(self.shapes.ix[i,'shape']): # try to pack\n",
    "                    self.pieces.append(i)\n",
    "                    self.shapes.ix[i,'count'] += 1 # if yes, increment the count for this shape\n",
    "                    self.shapes.ix[i,'pieces'].append(len(self.pieces)) # if yes, store piece ID with shape\n",
    "                    self.steps.append(self.matrix.copy())\n",
    "                else:\n",
    "                    self.shapes.ix[i,'try'] = False # if no, set flag to False so we don't try again\n",
    "    def shapes_to_try(self,cycle):\n",
    "        if cycle==1:\n",
    "            return self.shapes\n",
    "        else:\n",
    "            # start with largest shape that you can still try\n",
    "            return self.shapes[self.shapes['try']].sort_values('size',ascending=False) \n",
    "    def populate(self,shapes):\n",
    "        shape_data = [(s,s.size,0,True,[]) for s in shapes]\n",
    "        self.shapes = pd.DataFrame(shape_data, columns=['shape','size','count','try','pieces'])\n",
    "    def pack(self,shape):\n",
    "        place = self.best_place(shape)\n",
    "        if place is None:\n",
    "            #print 'Error: shape of size',shape.size,'does not fit'\n",
    "            return False\n",
    "        else:\n",
    "            self.put(shape,place)\n",
    "            #print 'Added',shape.size,'block shape to',place['placement_cell'],': filled',place['score'],'border cells'\n",
    "            return True\n",
    "    def put(self,shape,place):\n",
    "        shape_cells = shape.permutation_cells[place['permutation']]\n",
    "        shifted_cells = self.shift(shape_cells,place['placement_cell'])\n",
    "        for cell in shifted_cells:\n",
    "            self.matrix.A[cell[0]][cell[1]] = 1\n",
    "            self.labels.A[cell[0]][cell[1]] = len(self.pieces)\n",
    "    def best_place(self,shape):\n",
    "        places = self.possible_places(shape)\n",
    "        if len(places)==0:\n",
    "            return None\n",
    "        else:\n",
    "            return places.iloc[0] if len(self.pieces)==0 else places.sort_values('score',ascending=False).iloc[0]\n",
    "    def possible_places(self,shape):\n",
    "        places = {'placement_cell':[],'permutation':[],'score':[]}\n",
    "        border_cells = inner_spots(empty_spots(self.matrix),self.matrix)\n",
    "        for placement_cell in self.spiral_cells: # starting with the center cell, spiral out until the shape fits\n",
    "            for p, shape_cells in enumerate(shape.permutation_cells): # try each permutation\n",
    "                shifted_cells = self.shift(shape_cells,placement_cell)\n",
    "                if self.fits(shifted_cells): # if the shape is within bounds and doesn't overlap\n",
    "                    score = len([c for c in shifted_cells if c in border_cells])\n",
    "                    places['placement_cell'].append(placement_cell)\n",
    "                    places['permutation'].append(p)\n",
    "                    places['score'].append(score)               \n",
    "        return pd.DataFrame(places)\n",
    "    def fits(self,cells): \n",
    "        for cell in cells:\n",
    "            if not (self.contains(cell) and self.get(cell)==0):\n",
    "                return False\n",
    "        return True\n",
    "    def shift(self,cells,delta): # shift the coordinates of each cell by r/c\n",
    "        return [(cell[0]+delta[0],cell[1]+delta[1]) for cell in cells]\n",
    "    def contains(self,cell): \n",
    "        return cell[0]>=0 and cell[0]<self.matrix.shape[0] and cell[1]>=0 and cell[1]<self.matrix.shape[1]\n",
    "    def get(self,cell):\n",
    "        return self.matrix.A[cell[0]][cell[1]]"
   ]
  },
  {
   "cell_type": "markdown",
   "metadata": {
    "deletable": true,
    "editable": true
   },
   "source": [
    "# General image functions"
   ]
  },
  {
   "cell_type": "code",
   "execution_count": 20,
   "metadata": {
    "collapsed": true,
    "deletable": true,
    "editable": true
   },
   "outputs": [],
   "source": [
    "# Get n unique colors\n",
    "def get_n_colors(n=5):\n",
    "    hsv_tuples = [(x*1.0/n, 0.5, 1) for x in range(n)]\n",
    "    rgb_tuples = [tuple(map(lambda x: int(x*255),colorsys.hsv_to_rgb(*hsv))) for hsv in hsv_tuples]\n",
    "    return rgb_tuples\n",
    "def assign_colors(values):\n",
    "    color_code = {}\n",
    "    color_code[0] = (0,0,0)\n",
    "    values = [v for v in values if v!=0]\n",
    "    colors = get_n_colors(len(values))\n",
    "    for v,c in zip(values,colors):\n",
    "        color_code[v]=c\n",
    "    return color_code\n",
    "def draw(matrix, scale=10):\n",
    "    values = np.unique(matrix.flat)\n",
    "    color_code = assign_colors(values)\n",
    "    width = matrix.shape[1]*scale\n",
    "    height = matrix.shape[0]*scale\n",
    "    image = Image.new('RGB',(width,height),(0,0,0))\n",
    "    for r in range(matrix.shape[0]):\n",
    "        for c in range(matrix.shape[1]):\n",
    "            value = matrix.A[r][c]\n",
    "            color = color_code[value]\n",
    "            block = Image.new('RGB',(scale,scale),color)\n",
    "            box = (c*scale,r*scale,c*scale+scale,r*scale+scale)\n",
    "            image.paste(block,box)\n",
    "    return image"
   ]
  },
  {
   "cell_type": "markdown",
   "metadata": {},
   "source": [
    "# Generate shapes"
   ]
  },
  {
   "cell_type": "code",
   "execution_count": 17,
   "metadata": {
    "collapsed": false,
    "deletable": true,
    "editable": true
   },
   "outputs": [
    {
     "name": "stdout",
     "output_type": "stream",
     "text": [
      "Creating shapes of size 2\n",
      "Creating shapes of size 3\n",
      "Creating shapes of size 4\n",
      "Creating shapes of size 5\n",
      "Creating shapes of size 6\n",
      "89 shapes total\n"
     ]
    }
   ],
   "source": [
    "# Generate shapes\n",
    "shapes2d = make_shapes(n=6)\n",
    "shapes1d = flatten(shapes2d)\n",
    "print(len(shapes1d), 'shapes total')\n",
    "shapes = [Shape(s) for s in shapes1d]"
   ]
  },
  {
   "cell_type": "markdown",
   "metadata": {
    "deletable": true,
    "editable": true
   },
   "source": [
    "# Pack shapes into puzzle"
   ]
  },
  {
   "cell_type": "code",
   "execution_count": 18,
   "metadata": {
    "collapsed": false,
    "deletable": true,
    "editable": true,
    "scrolled": true
   },
   "outputs": [
    {
     "name": "stdout",
     "output_type": "stream",
     "text": [
      "==================== Cycle: 1\n",
      "Filled 0 of 625 matrix cells\n",
      "Placed 0 peices using 0 of 89 shapes\n",
      "Shapes left to try: 89\n",
      "========================================\n",
      "==================== Cycle: 2\n",
      "Filled 487 of 625 matrix cells\n",
      "Placed 89 peices using 89 of 89 shapes\n",
      "Shapes left to try: 89\n",
      "========================================\n",
      "==================== Cycle: 3\n",
      "Filled 589 of 625 matrix cells\n",
      "Placed 109 peices using 89 of 89 shapes\n",
      "Shapes left to try: 20\n",
      "========================================\n",
      "==================== Cycle: 4\n",
      "Filled 598 of 625 matrix cells\n",
      "Placed 113 peices using 89 of 89 shapes\n",
      "Shapes left to try: 4\n",
      "========================================\n",
      "==================== Cycle: 5\n",
      "Filled 601 of 625 matrix cells\n",
      "Placed 115 peices using 89 of 89 shapes\n",
      "Shapes left to try: 2\n",
      "========================================\n",
      "==================== Cycle: 6\n",
      "Filled 604 of 625 matrix cells\n",
      "Placed 117 peices using 89 of 89 shapes\n",
      "Shapes left to try: 2\n",
      "========================================\n",
      "==================== Cycle: 7\n",
      "Filled 607 of 625 matrix cells\n",
      "Placed 119 peices using 89 of 89 shapes\n",
      "Shapes left to try: 2\n",
      "========================================\n",
      "==================== Cycle: 8\n",
      "Filled 610 of 625 matrix cells\n",
      "Placed 121 peices using 89 of 89 shapes\n",
      "Shapes left to try: 2\n",
      "========================================\n",
      "==================== Cycle: 9\n",
      "Filled 613 of 625 matrix cells\n",
      "Placed 123 peices using 89 of 89 shapes\n",
      "Shapes left to try: 2\n",
      "========================================\n",
      "==================== Cycle: 10\n",
      "Filled 614 of 625 matrix cells\n",
      "Placed 124 peices using 89 of 89 shapes\n",
      "Shapes left to try: 1\n",
      "========================================\n",
      "==================== Cycle: 11\n",
      "Filled 615 of 625 matrix cells\n",
      "Placed 125 peices using 89 of 89 shapes\n",
      "Shapes left to try: 1\n",
      "========================================\n",
      "==================== Cycle: 12\n",
      "Filled 616 of 625 matrix cells\n",
      "Placed 126 peices using 89 of 89 shapes\n",
      "Shapes left to try: 1\n",
      "========================================\n",
      "==================== Cycle: 13\n",
      "Filled 617 of 625 matrix cells\n",
      "Placed 127 peices using 89 of 89 shapes\n",
      "Shapes left to try: 1\n",
      "========================================\n",
      "==================== Cycle: 14\n",
      "Filled 618 of 625 matrix cells\n",
      "Placed 128 peices using 89 of 89 shapes\n",
      "Shapes left to try: 1\n",
      "========================================\n",
      "==================== Cycle: 15\n",
      "Filled 619 of 625 matrix cells\n",
      "Placed 129 peices using 89 of 89 shapes\n",
      "Shapes left to try: 1\n",
      "========================================\n",
      "==================== Cycle: 16\n",
      "Filled 620 of 625 matrix cells\n",
      "Placed 130 peices using 89 of 89 shapes\n",
      "Shapes left to try: 1\n",
      "========================================\n",
      "==================== Cycle: 17\n",
      "Filled 621 of 625 matrix cells\n",
      "Placed 131 peices using 89 of 89 shapes\n",
      "Shapes left to try: 1\n",
      "========================================\n",
      "==================== Cycle: 18\n",
      "Filled 622 of 625 matrix cells\n",
      "Placed 132 peices using 89 of 89 shapes\n",
      "Shapes left to try: 1\n",
      "========================================\n",
      "==================== Cycle: 19\n",
      "Filled 623 of 625 matrix cells\n",
      "Placed 133 peices using 89 of 89 shapes\n",
      "Shapes left to try: 1\n",
      "========================================\n",
      "==================== Cycle: 20\n",
      "Filled 624 of 625 matrix cells\n",
      "Placed 134 peices using 89 of 89 shapes\n",
      "Shapes left to try: 1\n",
      "========================================\n"
     ]
    }
   ],
   "source": [
    "# Pack shapes into puzzle\n",
    "pz = Puzzle(25,25)\n",
    "pz.fill(shapes, cycles=40)"
   ]
  },
  {
   "cell_type": "markdown",
   "metadata": {
    "deletable": true,
    "editable": true
   },
   "source": [
    "# Save packed puzzle"
   ]
  },
  {
   "cell_type": "code",
   "execution_count": 25,
   "metadata": {
    "collapsed": true,
    "deletable": true,
    "editable": true
   },
   "outputs": [],
   "source": [
    "pickle.dump(pz.steps, open('data/output/puzzle_packing.p','wb'))"
   ]
  },
  {
   "cell_type": "markdown",
   "metadata": {
    "deletable": true,
    "editable": true
   },
   "source": [
    "# Draw shapes within puzzle"
   ]
  },
  {
   "cell_type": "code",
   "execution_count": 21,
   "metadata": {
    "collapsed": false,
    "deletable": true,
    "editable": true
   },
   "outputs": [
    {
     "data": {
      "image/png": "[encoded data removed]",
      "text/plain": [
       "<PIL.Image.Image image mode=RGB size=250x250 at 0x7F46055E89E8>"
      ]
     },
     "execution_count": 21,
     "metadata": {},
     "output_type": "execute_result"
    }
   ],
   "source": [
    "draw(pz.labels)"
   ]
  },
  {
   "cell_type": "markdown",
   "metadata": {
    "deletable": true,
    "editable": true
   },
   "source": [
    "# Analyze puzzle/shape data"
   ]
  },
  {
   "cell_type": "code",
   "execution_count": 24,
   "metadata": {
    "collapsed": false,
    "deletable": true,
    "editable": true
   },
   "outputs": [
    {
     "name": "stdout",
     "output_type": "stream",
     "text": [
      "135 89 135\n"
     ]
    },
    {
     "data": {
      "text/html": [
       "<div>\n",
       "<table border=\"1\" class=\"dataframe\">\n",
       "  <thead>\n",
       "    <tr style=\"text-align: right;\">\n",
       "      <th></th>\n",
       "      <th>shape</th>\n",
       "      <th>size</th>\n",
       "      <th>count</th>\n",
       "      <th>try</th>\n",
       "      <th>pieces</th>\n",
       "    </tr>\n",
       "  </thead>\n",
       "  <tbody>\n",
       "    <tr>\n",
       "      <th>0</th>\n",
       "      <td>&lt;__main__.Shape object at 0x7f46055d6320&gt;</td>\n",
       "      <td>1</td>\n",
       "      <td>20</td>\n",
       "      <td>True</td>\n",
       "      <td>[1, 109, 113, 115, 117, 119, 121, 123, 124, 12...</td>\n",
       "    </tr>\n",
       "    <tr>\n",
       "      <th>1</th>\n",
       "      <td>&lt;__main__.Shape object at 0x7f46055d6358&gt;</td>\n",
       "      <td>2</td>\n",
       "      <td>8</td>\n",
       "      <td>False</td>\n",
       "      <td>[2, 108, 112, 114, 116, 118, 120, 122]</td>\n",
       "    </tr>\n",
       "    <tr>\n",
       "      <th>2</th>\n",
       "      <td>&lt;__main__.Shape object at 0x7f46055d6668&gt;</td>\n",
       "      <td>3</td>\n",
       "      <td>3</td>\n",
       "      <td>False</td>\n",
       "      <td>[3, 106, 111]</td>\n",
       "    </tr>\n",
       "    <tr>\n",
       "      <th>3</th>\n",
       "      <td>&lt;__main__.Shape object at 0x7f46055d6128&gt;</td>\n",
       "      <td>3</td>\n",
       "      <td>3</td>\n",
       "      <td>False</td>\n",
       "      <td>[4, 107, 110]</td>\n",
       "    </tr>\n",
       "    <tr>\n",
       "      <th>66</th>\n",
       "      <td>&lt;__main__.Shape object at 0x7f4605336240&gt;</td>\n",
       "      <td>6</td>\n",
       "      <td>2</td>\n",
       "      <td>False</td>\n",
       "      <td>[67, 102]</td>\n",
       "    </tr>\n",
       "    <tr>\n",
       "      <th>65</th>\n",
       "      <td>&lt;__main__.Shape object at 0x7f4605336748&gt;</td>\n",
       "      <td>6</td>\n",
       "      <td>2</td>\n",
       "      <td>False</td>\n",
       "      <td>[66, 92]</td>\n",
       "    </tr>\n",
       "    <tr>\n",
       "      <th>64</th>\n",
       "      <td>&lt;__main__.Shape object at 0x7f4605336b70&gt;</td>\n",
       "      <td>6</td>\n",
       "      <td>2</td>\n",
       "      <td>False</td>\n",
       "      <td>[65, 93]</td>\n",
       "    </tr>\n",
       "    <tr>\n",
       "      <th>63</th>\n",
       "      <td>&lt;__main__.Shape object at 0x7f46053365f8&gt;</td>\n",
       "      <td>6</td>\n",
       "      <td>2</td>\n",
       "      <td>False</td>\n",
       "      <td>[64, 94]</td>\n",
       "    </tr>\n",
       "    <tr>\n",
       "      <th>40</th>\n",
       "      <td>&lt;__main__.Shape object at 0x7f46053364a8&gt;</td>\n",
       "      <td>6</td>\n",
       "      <td>2</td>\n",
       "      <td>False</td>\n",
       "      <td>[41, 103]</td>\n",
       "    </tr>\n",
       "    <tr>\n",
       "      <th>61</th>\n",
       "      <td>&lt;__main__.Shape object at 0x7f4605336470&gt;</td>\n",
       "      <td>6</td>\n",
       "      <td>2</td>\n",
       "      <td>False</td>\n",
       "      <td>[62, 96]</td>\n",
       "    </tr>\n",
       "  </tbody>\n",
       "</table>\n",
       "</div>"
      ],
      "text/plain": [
       "                                        shape  size  count    try  \\\n",
       "0   <__main__.Shape object at 0x7f46055d6320>     1     20   True   \n",
       "1   <__main__.Shape object at 0x7f46055d6358>     2      8  False   \n",
       "2   <__main__.Shape object at 0x7f46055d6668>     3      3  False   \n",
       "3   <__main__.Shape object at 0x7f46055d6128>     3      3  False   \n",
       "66  <__main__.Shape object at 0x7f4605336240>     6      2  False   \n",
       "65  <__main__.Shape object at 0x7f4605336748>     6      2  False   \n",
       "64  <__main__.Shape object at 0x7f4605336b70>     6      2  False   \n",
       "63  <__main__.Shape object at 0x7f46053365f8>     6      2  False   \n",
       "40  <__main__.Shape object at 0x7f46053364a8>     6      2  False   \n",
       "61  <__main__.Shape object at 0x7f4605336470>     6      2  False   \n",
       "\n",
       "                                               pieces  \n",
       "0   [1, 109, 113, 115, 117, 119, 121, 123, 124, 12...  \n",
       "1              [2, 108, 112, 114, 116, 118, 120, 122]  \n",
       "2                                       [3, 106, 111]  \n",
       "3                                       [4, 107, 110]  \n",
       "66                                          [67, 102]  \n",
       "65                                           [66, 92]  \n",
       "64                                           [65, 93]  \n",
       "63                                           [64, 94]  \n",
       "40                                          [41, 103]  \n",
       "61                                           [62, 96]  "
      ]
     },
     "execution_count": 24,
     "metadata": {},
     "output_type": "execute_result"
    }
   ],
   "source": [
    "print(len(pz.pieces), len(shapes), len(pz.steps))\n",
    "pz.shapes.sort_values('count',ascending=False).head(10)"
   ]
  },
  {
   "cell_type": "markdown",
   "metadata": {
    "deletable": true,
    "editable": true
   },
   "source": [
    "# Draw value counts for each shape"
   ]
  },
  {
   "cell_type": "code",
   "execution_count": 26,
   "metadata": {
    "collapsed": false,
    "deletable": true,
    "editable": true
   },
   "outputs": [
    {
     "data": {
      "image/png": "[encoded data removed]",
      "text/plain": [
       "<PIL.Image.Image image mode=RGB size=250x250 at 0x7F462C0D16D8>"
      ]
     },
     "execution_count": 26,
     "metadata": {},
     "output_type": "execute_result"
    }
   ],
   "source": [
    "# Draw value counts for each shape / piece\n",
    "matrix = []\n",
    "for r in range(pz.labels.A.shape[0]):\n",
    "    row = []\n",
    "    for c in range(pz.labels.A.shape[1]):\n",
    "        label = pz.labels.A[r][c]\n",
    "        shape_id = pz.pieces[label]\n",
    "        count = pz.shapes.ix[shape_id,'count']\n",
    "        row.append(count)\n",
    "    matrix.append(row)\n",
    "draw(np.matrix(matrix))"
   ]
  },
  {
   "cell_type": "markdown",
   "metadata": {
    "deletable": true,
    "editable": true
   },
   "source": [
    "# Recolor puzzle with ~4 colors"
   ]
  },
  {
   "cell_type": "code",
   "execution_count": 28,
   "metadata": {
    "collapsed": false,
    "deletable": true,
    "editable": true
   },
   "outputs": [],
   "source": [
    "class Recolorer:\n",
    "    def recolor(self,matrix):\n",
    "        self.colors = [1,2,3,4]\n",
    "        self.matrix = matrix\n",
    "        self.neighbors = self.neighbor_network(self.matrix)\n",
    "        self.df = self.neighbor_df(self.neighbors)\n",
    "        print('Unique values:',len(self.df))\n",
    "        self.assign_colors()\n",
    "        unassigned = self.unassigned()\n",
    "        print('Unassigned:',len(unassigned))\n",
    "        print('Attempting to reassign...')\n",
    "        for i in unassigned:\n",
    "            self.reassign(i)\n",
    "        unassigned = self.unassigned()\n",
    "        print('Still unassigned:',len(unassigned))\n",
    "        return self.render()\n",
    "    def render(self):\n",
    "        matrix = self.matrix.copy()\n",
    "        for r in range(matrix.shape[0]):\n",
    "            for c in range(matrix.shape[1]):\n",
    "                value = matrix.A[r][c]\n",
    "                matrix.A[r][c] = self.df.ix[value,'color']\n",
    "        return matrix\n",
    "    def assign_colors(self):\n",
    "        for i in self.df.index:\n",
    "            self.assign(i)\n",
    "    def assign(self,i):\n",
    "        colors = self.possible_colors(i)\n",
    "        if len(colors)>0:\n",
    "            self.df.ix[i,'color'] = colors[0]\n",
    "    def unassigned(self):\n",
    "        return self.df[self.df['color'].map(lambda x: x not in self.colors)].index\n",
    "    def reassign(self,i):\n",
    "        df = self.neighbor_data(i)\n",
    "        colors = df.groupby('color').agg({'switchable':np.all}) # are all neighbors of a given color switchable?\n",
    "        options = colors[colors['switchable']].index\n",
    "        if len(options)>0:\n",
    "            new_color = options[0]\n",
    "            self.df.ix[i,'color'] = new_color\n",
    "            neighbors_to_reassign = list(df[df['color']==new_color]['n'])\n",
    "            for n in neighbors_to_reassign:\n",
    "                self.assign(n)\n",
    "    def neighbor_data(self,i):\n",
    "        d = {'n':[],'color':[],'new_colors':[],'switchable':[]}\n",
    "        for n in self.neighbors[i]:\n",
    "            new_colors = self.possible_colors(n)\n",
    "            d['n'].append(n)\n",
    "            d['color'].append(self.df.ix[n,'color'])\n",
    "            d['new_colors'].append(new_colors)\n",
    "            d['switchable'].append(len(new_colors)>0)\n",
    "        return pd.DataFrame(d)\n",
    "    def neighbor_network(self,matrix):\n",
    "        values = np.unique(matrix.flat)\n",
    "        network = {x:set() for x in values}\n",
    "        for r in range(matrix.shape[0]):\n",
    "            for c in range(matrix.shape[1]):\n",
    "                value = matrix.A[r][c]\n",
    "                neighbors = [(r-1,c),(r+1,c),(r,c-1),(r,c+1)]\n",
    "                for n in neighbors:\n",
    "                    if 0<=n[0]<matrix.shape[0] and 0<=n[1]<matrix.shape[1]: # cell in bounds\n",
    "                        neighbor_value = matrix.A[n[0]][n[1]] \n",
    "                        if neighbor_value != value:\n",
    "                            network[value].add(neighbor_value)\n",
    "        return network\n",
    "    def neighbor_df(self,network):\n",
    "        df = pd.DataFrame({'value':[x for x in network]})\n",
    "        df['neighbors'] = df['value'].map(lambda x: network[x])\n",
    "        df['color'] = [None for i in df.index]\n",
    "        df = df.set_index('value',drop=True)\n",
    "        return df\n",
    "    def neighbor_colors(self,i):\n",
    "        return set([self.df.ix[n,'color'] for n in self.neighbors[i]])\n",
    "    def possible_colors(self,i):\n",
    "        return [c for c in self.colors if c not in self.neighbor_colors(i)]"
   ]
  },
  {
   "cell_type": "code",
   "execution_count": 30,
   "metadata": {
    "collapsed": false,
    "deletable": true,
    "editable": true
   },
   "outputs": [
    {
     "name": "stdout",
     "output_type": "stream",
     "text": [
      "Unique values: 135\n",
      "Unassigned: 2\n",
      "Attempting to reassign...\n",
      "Still unassigned: 0\n"
     ]
    },
    {
     "data": {
      "image/png": "[encoded data removed]",
      "text/plain": [
       "<PIL.Image.Image image mode=RGB size=500x500 at 0x7F46051B7C50>"
      ]
     },
     "execution_count": 30,
     "metadata": {},
     "output_type": "execute_result"
    }
   ],
   "source": [
    "r = Recolorer()\n",
    "puzzle_colored = draw(r.recolor(pz.labels),scale=20)\n",
    "puzzle_colored"
   ]
  },
  {
   "cell_type": "markdown",
   "metadata": {
    "deletable": true,
    "editable": true
   },
   "source": [
    "# Save colored puzzle"
   ]
  },
  {
   "cell_type": "code",
   "execution_count": 33,
   "metadata": {
    "collapsed": true,
    "deletable": true,
    "editable": true
   },
   "outputs": [],
   "source": [
    "puzzle_colored.save('data/output/puzzle_colored.png')"
   ]
  },
  {
   "cell_type": "markdown",
   "metadata": {
    "deletable": true,
    "editable": true
   },
   "source": [
    "# Painting class: Construct block painting from dataframe"
   ]
  },
  {
   "cell_type": "code",
   "execution_count": 49,
   "metadata": {
    "collapsed": true,
    "deletable": true,
    "editable": true
   },
   "outputs": [],
   "source": [
    "class Painting:\n",
    "    def __init__(self,x=10,offset=(0,0),inner_colors=[]):\n",
    "        self.x = x\n",
    "        self.canvas = pd.DataFrame(np.matrix([['']*x for i in range(x)]))\n",
    "        self.cells = [(r,c) for r in range(self.canvas.shape[0]) for c in range(self.canvas.shape[1])]\n",
    "        self.mid = int(x/2)\n",
    "        self.center = (self.mid,self.mid)\n",
    "        self.heart_center = (self.mid+offset[0],self.mid+offset[1])\n",
    "        self.colors = self.get_colors(inner_colors)\n",
    "        self.heart = self.heart_cells()\n",
    "        self.cross = self.cross_cells()\n",
    "        self.inner = self.inner_heart_cells()\n",
    "        self.outer = self.outer_heart_cells()\n",
    "        self.zones = self.zone_cells()\n",
    "        self.draw()\n",
    "    def hsv_to_rgb(self,hsv):\n",
    "        return tuple(map(lambda x: int(x*255),colorsys.hsv_to_rgb(*hsv)))\n",
    "    def get_colors(self,inner_colors):\n",
    "        colors = {}\n",
    "        colors['z0'] = (85,200,200) # zones 2,4,6,8\n",
    "        colors['z1'] = (28,122,205) # zones 1,3,5,7\n",
    "        colors['h'] = (0,0,0) # heart perimeter\n",
    "        colors['x'] = (0,0,0) # cross\n",
    "        for i,color in enumerate(inner_colors):\n",
    "            code = 'h'+str(i)\n",
    "            colors[code] = color  \n",
    "        return colors\n",
    "    def heart_cells(self):\n",
    "        left = []\n",
    "        left += [(5,11),(5,10),(5,9),(4,9),(4,8),(4,7),(4,6),(4,5),(4,4),(5,4),(5,3),(6,3),(6,2)]\n",
    "        left += [(7,2),(7,1),(8,1),(9,1),(10,1),(11,1),(12,1),(13,1),(13,2),(14,2),(14,3),(15,3),(15,4)]\n",
    "        left += [(16,4),(16,5),(17,5),(17,6),(18,6),(18,7),(19,7),(19,8),(19,9),(20,9),(20,10),(20,11),(21,11)]\n",
    "        right = []\n",
    "        for cell in left:\n",
    "            right += [(cell[0],self.canvas.shape[1]-cell[1]-1)]\n",
    "        heart_cells = right+left+[(5,12),(21,12)] # add cells in middle column\n",
    "        return heart_cells\n",
    "    def inside_heart(self,cell): # determine if given cell is inside boundary of heart\n",
    "        h_cells = [h for h in self.heart if h[1]==cell[1]] # heart cells with same column\n",
    "        if len(h_cells)>0:\n",
    "            min_row = min([h[0] for h in h_cells])\n",
    "            max_row = max([h[0] for h in h_cells])\n",
    "            return cell not in h_cells and cell[0]>min_row and cell[0]<max_row\n",
    "        return False\n",
    "    def cross_cells(self):\n",
    "        cross_cells = []\n",
    "        for (r,c) in self.cells:\n",
    "            if r==self.mid or c==self.mid or r==c or r+c==self.mid*2:\n",
    "                if not self.inside_heart((r,c)):\n",
    "                    cross_cells += [(r,c)]\n",
    "        return cross_cells\n",
    "    def inner_heart_cells(self):\n",
    "        return [c for c in self.cells if self.inside_heart(c)]\n",
    "    def outer_heart_cells(self):\n",
    "        return [c for c in self.cells if c not in self.heart+self.cross+self.inner]\n",
    "    def zone_cells(self):\n",
    "        zone = {1:[],2:[],3:[],4:[],5:[],6:[],7:[],8:[]} # clockwise\n",
    "        for cell in self.outer:\n",
    "            r,c = cell\n",
    "            if r<self.mid: # upper half\n",
    "                if c<self.mid: # upper left\n",
    "                    if r>c:\n",
    "                        zone[7].append(cell)\n",
    "                    else:\n",
    "                        zone[8].append(cell)\n",
    "                else: # upper right\n",
    "                    if (self.mid*2-r)>c:\n",
    "                        zone[1].append(cell)\n",
    "                    else:\n",
    "                        zone[2].append(cell)\n",
    "            else: # lower half\n",
    "                if c<self.mid: # lower left\n",
    "                    if (self.mid*2-r)>c:\n",
    "                        zone[6].append(cell)\n",
    "                    else:\n",
    "                        zone[5].append(cell)\n",
    "                else: # lower right\n",
    "                    if r>c:\n",
    "                        zone[4].append(cell)\n",
    "                    else:\n",
    "                        zone[3].append(cell)\n",
    "        return zone\n",
    "    def distance(self,cell1,cell2):\n",
    "        return abs(cell1[0]-cell2[0]) + abs(cell1[1]-cell2[1])   \n",
    "    def draw(self):\n",
    "        for cell in self.heart:\n",
    "            self.draw_cell(cell,'h')\n",
    "        for cell in self.cross:\n",
    "            self.draw_cell(cell,'x')\n",
    "        for cell in self.inner:\n",
    "            code = 'h'+str(int(self.distance(cell,self.heart_center)))\n",
    "            self.draw_cell(cell,code)\n",
    "        for z in self.zones:\n",
    "            for cell in self.zones[z]:\n",
    "                code = 'z'+str(z%2)\n",
    "                self.draw_cell(cell,code)\n",
    "    # Populate canvas with color codes\n",
    "    def draw_cell(self,cell,code):\n",
    "        self.canvas.ix[cell[0],cell[1]]=code\n",
    "    def paint(self, scale=10):\n",
    "        xy = (self.canvas.shape[1]*scale,self.canvas.shape[0]*scale)\n",
    "        image = Image.new('RGB',xy,(255,255,255))\n",
    "        for r in range(self.canvas.shape[0]):\n",
    "            for c in range(self.canvas.shape[1]):\n",
    "                code = self.canvas.ix[r,c]\n",
    "                color = self.colors.get(code,(0,0,0))\n",
    "                block = Image.new('RGB',(scale,scale),color)\n",
    "                box = (c*scale,r*scale,c*scale+scale,r*scale+scale)\n",
    "                image.paste(block,box)\n",
    "        return image"
   ]
  },
  {
   "cell_type": "code",
   "execution_count": 52,
   "metadata": {
    "collapsed": false,
    "deletable": true,
    "editable": true
   },
   "outputs": [
    {
     "data": {
      "image/png": "[encoded data removed]",
      "text/plain": [
       "<PIL.Image.Image image mode=RGB size=625x625 at 0x7F46050E04A8>"
      ]
     },
     "execution_count": 52,
     "metadata": {},
     "output_type": "execute_result"
    }
   ],
   "source": [
    "# Color scheme 1\n",
    "inner_colors = []\n",
    "inner_colors += [(0,0,1)] # white\n",
    "inner_colors += [(0.15,0.2,1)] # vanilla\n",
    "inner_colors += [(0.15,0.5,1)] # yellow1\n",
    "inner_colors += [(0.15,1,1)] # yellow2\n",
    "inner_colors += [(0.12,1,1)] # orange1\n",
    "inner_colors += [(0.10,1,1)] # orange2\n",
    "inner_colors += [(0.05,1,1)] # orange3\n",
    "inner_colors += [(0,1,1)] # red\n",
    "inner_colors += [(0,1,0.7)] # burgundy\n",
    "inner_colors += [(0.65,1,1)] # blue1\n",
    "inner_colors += [(0.65,1,1)] # blue1\n",
    "inner_colors += [(0.65,1,0.8)] # blue2\n",
    "inner_colors += [(0.65,1,0.8)] # blue2\n",
    "inner_colors += [(0.65,1,0.6)] # blue3\n",
    "inner_colors += [(0.65,1,0.6)] # blue3\n",
    "inner_colors += [(0.65,1,0.4)] # blue4\n",
    "inner_colors += [(0.65,1,0.4)] # blue4\n",
    "inner_colors += [(0.65,1,0.2)] # blue5\n",
    "# Translate to RGB\n",
    "inner_colors = [tuple(map(lambda x: int(x*255),colorsys.hsv_to_rgb(*hsv))) for hsv in inner_colors]\n",
    "\n",
    "\n",
    "pt = Painting(x=25,offset=(-2,-4),inner_colors=inner_colors)\n",
    "pt.paint(scale=25)"
   ]
  },
  {
   "cell_type": "code",
   "execution_count": null,
   "metadata": {
    "collapsed": true,
    "deletable": true,
    "editable": true
   },
   "outputs": [],
   "source": []
  }
 ],
 "metadata": {
  "kernelspec": {
   "display_name": "Python 3",
   "language": "python",
   "name": "python3"
  },
  "language_info": {
   "codemirror_mode": {
    "name": "ipython",
    "version": 3
   },
   "file_extension": ".py",
   "mimetype": "text/x-python",
   "name": "python",
   "nbconvert_exporter": "python",
   "pygments_lexer": "ipython3",
   "version": "3.5.2"
  }
 },
 "nbformat": 4,
 "nbformat_minor": 2
}
